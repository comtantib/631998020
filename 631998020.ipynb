{
 "cells": [
  {
   "cell_type": "code",
   "execution_count": 87,
   "id": "a794f3a6",
   "metadata": {
    "scrolled": true
   },
   "outputs": [
    {
     "name": "stdout",
     "output_type": "stream",
     "text": [
      "Binary tree from list : \n",
      " \n",
      "     ___9___\n",
      "    /       \\\n",
      "  _6        _8\n",
      " /  \\      /  \\\n",
      "12   13   15   16\n",
      "\n",
      "\n",
      "List from binary tree : [9, 6, 8, 12, 13, 15, 16] \n",
      "\n",
      "Inorder of nodes : [Node(12), Node(6), Node(13), Node(9), Node(15), Node(8), Node(16)]\n",
      "Preoder of nodes :  [Node(9), Node(6), Node(12), Node(13), Node(8), Node(15), Node(16)]\n",
      "Postoder of nodes :  [Node(12), Node(13), Node(6), Node(15), Node(16), Node(8), Node(9)] \n",
      "\n",
      "Size of tree : 7\n",
      "Height of tree : 2\n"
     ]
    }
   ],
   "source": [
    "#3 .ให้นักศึกษาสร้างต้นไม้     \n",
    "\n",
    "from binarytree import build\n",
    "nodes =[9, 6, 8, 12, 13,15,16,]\n",
    "binary_tree = build(nodes)\n",
    "print('Binary tree from list : \\n', binary_tree )\n",
    "print('\\nList from binary tree :' ,binary_tree .values, '\\n' )\n",
    "print('Inorder of nodes :',binary_tree .inorder)\n",
    "print('Preoder of nodes : ',binary_tree .preorder)\n",
    "print('Postoder of nodes : ', binary_tree .postorder, '\\n')\n",
    "print('Size of tree :', binary_tree .size)\n",
    "print('Height of tree :', binary_tree .height)\n",
    "\n",
    "\n",
    "\n",
    "\n",
    "\n",
    "\n",
    "\n",
    "\n"
   ]
  },
  {
   "cell_type": "code",
   "execution_count": 93,
   "id": "9ad6d09f",
   "metadata": {
    "scrolled": true
   },
   "outputs": [
    {
     "name": "stdout",
     "output_type": "stream",
     "text": [
      "Perfect BST of given height : \n",
      " \n",
      "    2\n",
      "   / \\\n",
      "  1   3__\n",
      " /       \\\n",
      "0         10\n",
      "         /  \\\n",
      "        5    11\n",
      "\n",
      "right : 29\n",
      "left : 1\n",
      "difference : -28\n"
     ]
    }
   ],
   "source": [
    "# 4 ให้นักศึกษาเขียนขั้นตอนวิธีสำหรับสร้างต้นไม้แบบ binary search tree(BTS)\n",
    " \n",
    "from binarytree import bst\n",
    "root = bst(height =3)\n",
    "print('Perfect BST of given height : \\n', root)\n",
    "def  DifferentTree(root):\n",
    "    if root:\n",
    "          return DifferentTree(root.left)+int(root.value)+DifferentTree(root.right)\n",
    "    else:\n",
    "          return 0\n",
    "print (\"right :\" ,DifferentTree(root.right))       \n",
    "print(\"left :\" ,DifferentTree(root.left))\n",
    "print(\"difference :\" , DifferentTree(root.left)-DifferentTree(root.right))\n",
    "     "
   ]
  },
  {
   "cell_type": "code",
   "execution_count": 91,
   "id": "97a8cbf2",
   "metadata": {},
   "outputs": [
    {
     "ename": "IndentationError",
     "evalue": "unexpected indent (Temp/ipykernel_11968/449384767.py, line 4)",
     "output_type": "error",
     "traceback": [
      "\u001b[1;36m  File \u001b[1;32m\"C:\\Users\\Admin\\AppData\\Local\\Temp/ipykernel_11968/449384767.py\"\u001b[1;36m, line \u001b[1;32m4\u001b[0m\n\u001b[1;33m    if root:\u001b[0m\n\u001b[1;37m    ^\u001b[0m\n\u001b[1;31mIndentationError\u001b[0m\u001b[1;31m:\u001b[0m unexpected indent\n"
     ]
    }
   ],
   "source": [
    "# 1 จงอธิบายพร้อมยกตัวอย่างการทำงานของอัลกอริทึม merge sort \n",
    "Merge sort เป็นอัลกอริทึมแบบแบ่งแยกและเอาชนะ (divide and conquer algorithm) ก็คือมีการแบ่งแยก โดยแบ่งข้อมูลออกเป็นสองส่วนจากนั้นให้ recursive เรียกตัวเอง\n",
    "ต่อมาเอาชนะเป็นการเอาแต่ละส่วนมาพิจารณารวมกันจนได้เป็นส่วนใหญ่ที่เรียงลำดับเรียบร้อยแล้ว โดยส่วนที่เอามาพิจารณาต้องเรียงลำดับแล้วด้วย สมมติว่ามีข้อมูลอยู่ n ตัว เวลาการทำงานก็จะเป็น T(n) \n",
    "ซึ่งการคำนวณหาเวลาก็หาได้จาก master’s method คือ T(n) = 2T(n/2) + n \n",
    "การทำงานของ merge sort เป็นไปอย่างรวดเร็วเพราะในกรณีแย่สุดก็ยังทำงานแค่ O(n log n) นอกจากนี้ยังสามารถทำได้ทั้งแบบบนลงล่าง (Top-down) และแบบล่างขึ้นบน (Bottom-up)  \n"
   ]
  }
 ],
 "metadata": {
  "kernelspec": {
   "display_name": "Python 3 (ipykernel)",
   "language": "python",
   "name": "python3"
  },
  "language_info": {
   "codemirror_mode": {
    "name": "ipython",
    "version": 3
   },
   "file_extension": ".py",
   "mimetype": "text/x-python",
   "name": "python",
   "nbconvert_exporter": "python",
   "pygments_lexer": "ipython3",
   "version": "3.10.0"
  }
 },
 "nbformat": 4,
 "nbformat_minor": 5
}
